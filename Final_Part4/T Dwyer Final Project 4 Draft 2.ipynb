{
 "cells": [
  {
   "cell_type": "markdown",
   "metadata": {},
   "source": [
    "## Final Project Modelling update"
   ]
  },
  {
   "cell_type": "markdown",
   "metadata": {},
   "source": [
    "#### Original Problem Spec\n",
    "\n",
    "**The hypothesis of interest**: a pupil receiving free school meals, an indicator of 'disadvantage', is just as likely as a pupil not receiving free school meals to achieve the KS4 benchmark, regardless of the intake profile of their school.\n",
    "\n",
    "**The desired outcome**a probability of a pupil attaining the required level of progress based on their KS2 attainment upon entry to the school in question. One of the key factors for pupil attainment appears to be whether they are advantaged/disadvantaged as well as the attainment achieved at KS2.  This is a categorical problem, which at first glance suggested a logistic regression approach.\n",
    "\n"
   ]
  },
  {
   "cell_type": "markdown",
   "metadata": {},
   "source": [
    "#### The Data\n",
    "\n",
    "AFter cleansing and grouping the data,  i was left with a dataset consisting of 3,450 rows of data\n",
    "\n",
    "The first task was to look at the relationships between variables of interest. looking at a subset of the the data containing:\n",
    "\n",
    " 1. Overall Progress 8 measure\n",
    " 2.Progress 8 measure for disadvantaged pupils\n",
    " 3.Establishment ID &\n",
    "\n",
    "A response column derived from the overall progress 8 measure and progress 8 measure for disadvantaged pupils in the following way:\n",
    "\n",
    "\n",
    " |Response|---|\n",
    " |---|---|\n",
    " |1|P8 Overall >= P8 Disadvantaged pupils|\n",
    " |0|P8 Overall < P8 Disadvantaged pupils|\n",
    "\n",
    "\n",
    "The histogram shows the outcome, which does not support the hypothesis of interest at all.  There is clearly a seperation in the P8 scores for disadvantaged and non- disadvantaged pupils\n",
    "\n",
    "<img src='Picture1.png' height = 70% width = 70%>\n",
    "\n",
    "\n",
    "Further modelling based on these results would be to look at other factors affecting disadvantage from a social science perspective.  The data contained in the performance tables here would appear to be able to show how much disadvantaged pupils fall back compare to their non-disadvantaged contemporaries.\n",
    "\n",
    "If I had more time I could drill down into different aspects of the progress 8 measure to see what effect disadvantage has on acheivement at the more granular level.\n"
   ]
  },
  {
   "cell_type": "markdown",
   "metadata": {},
   "source": [
    "Therefore in order to gain some useful insights from the data I decided to look at predicting a school's P8 score based on\n",
    "\n",
    "\n",
    "1. percentage of pupils eligible for free school meals\n",
    "2. prior attainment at KS2.\n",
    "3. Number of pupils on roll.\n",
    "4. Local Authority\n",
    "\n",
    "This should give a basic model and indicator if this may be of interest and worth modelling. Then expand the model based on the results of this modelling.\n",
    "\n",
    "I coded the progress 8 score according to the mean so values >= mean = 1 and values less than mean = 0 (response)\n",
    "\n",
    "The correlation matrix for this sample dataset, again 3,450 rows, is:\n",
    "\n",
    "<img src='Picture2.png'height = 80% width =80%>"
   ]
  },
  {
   "cell_type": "markdown",
   "metadata": {},
   "source": [
    "#### First logistic regression model\n",
    "\n",
    "The training dataset consists of ~2300 observations with a training dataset of ~1100 observations.  I fit a logistic regression 'straight out of the box' to see what impact the variables appeard to have on the school's overall score.  the odds ratios for each of the variables were:\n",
    "\n",
    " |Feature|Odds ratio|\n",
    " |---|---|\n",
    " |LA\t|1.00109241|  \n",
    " |NOR| 0.99927564|\t\n",
    " |PNUMFSM| 1.05172372|\t\n",
    "  |KS2APS|0.91076195|\t\n",
    "|PTPRIORLO|\t3.4799561|\t\n",
    "\n",
    "The score was 68% so, better than guessing but suggests that there are other features in the datset that will help here. \n",
    "As model 1 stands, as the number of pupils with low KS2 scores increases the odds of not achieving an average P8 score increase by a factor of 3. This outweighs the impact of pupils receiving free school meals, as the odds only increase by a factor 0.05 in that instance.  _this would suggets that DoE are combining various factors in the disdvantage measure that are not contained, at first glance, in the census data_\n",
    "\n",
    "The ROC and AUC curves show the model accuracy in more detail:\n",
    "\n",
    "<img src='ROCAUC1.png' height = 60% width = 60%>\n",
    "\n",
    "this is a weak model and could do with some refining\n"
   ]
  },
  {
   "cell_type": "markdown",
   "metadata": {},
   "source": [
    "Cross validation on the model only improved the accuracy by 1%, so more variables are needed.  Variables that may well impact here are: gender of pupils all boy, all girl or mixed school, religious character of school?"
   ]
  },
  {
   "cell_type": "code",
   "execution_count": null,
   "metadata": {
    "collapsed": true
   },
   "outputs": [],
   "source": []
  }
 ],
 "metadata": {
  "kernelspec": {
   "display_name": "Python 2",
   "language": "python",
   "name": "python2"
  },
  "language_info": {
   "codemirror_mode": {
    "name": "ipython",
    "version": 2
   },
   "file_extension": ".py",
   "mimetype": "text/x-python",
   "name": "python",
   "nbconvert_exporter": "python",
   "pygments_lexer": "ipython2",
   "version": "2.7.13"
  }
 },
 "nbformat": 4,
 "nbformat_minor": 2
}
